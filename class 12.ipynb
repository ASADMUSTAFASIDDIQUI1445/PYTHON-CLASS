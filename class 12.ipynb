{
 "cells": [
  {
   "cell_type": "markdown",
   "metadata": {},
   "source": []
  },
  {
   "cell_type": "code",
   "execution_count": null,
   "metadata": {},
   "outputs": [
    {
     "name": "stdout",
     "output_type": "stream",
     "text": [
      "num>>> 10\n",
      "num>>> 9\n",
      "num>>> 8\n",
      "num>>> 7\n",
      "num>>> 6\n",
      "num>>> 5\n",
      "num>>> 4\n",
      "num>>> 3\n",
      "num>>> 2\n",
      "num>>> 1\n",
      "Count down is finished\n",
      "12\n",
      "-2\n"
     ]
    }
   ],
   "source": [
    "def countdown(num: int) -> int:\n",
    "    print (\"num>>>\",num)\n",
    "\n",
    "    count_down(10)\n",
    "\n",
    "#recurive function / recrusion\n",
    "def count_down(num: int)-> int:\n",
    "    print(\"num>>>\",num)\n",
    "    count_down(num-1)\n",
    "    count_down (10)\n",
    "    \n",
    "def count_down(num:list)->int: \n",
    "\n",
    "    if num <=0:   \n",
    "        print(\"count_down is finished\")\n",
    "    else:\n",
    "        print (\"num>>>:,num\")\n",
    "        count_down(num-1)\n",
    "        count_down(10)\n",
    "\n",
    "#count dowm clock 2-march 25\n",
    "def count_down (num: int)->int:\n",
    " if num == 0:\n",
    "   print(\"Count down is finished\")\n",
    " else:\n",
    "  print(\"num>>>\",num)#10\n",
    "  count_down(num - 1)\n",
    "\n",
    "count_down (10)\n",
    "\n",
    "\n",
    "\n",
    "#function of Lamdba \n",
    "def add(a: int, b: int) -> int:\n",
    "    return a+b\n",
    "add(5,7)\n",
    "\n",
    "add=lambda a,b: a+b \n",
    "result = add(5,7)# 12\n",
    "print(result)\n",
    "\n",
    "sub=lambda a,b: a-b \n",
    "result =sub(5,7)# 12\n",
    "print(result)\n"
   ]
  },
  {
   "cell_type": "code",
   "execution_count": 1,
   "metadata": {},
   "outputs": [
    {
     "name": "stdout",
     "output_type": "stream",
     "text": [
      "cwd e:\\python folder\n",
      "listdir ['class 1-5.py', 'class 10.ipynb', 'CLASS 11.ipynb', 'class 12.ipynb', 'class 6-9.py', 'class13.ipynb', 'class14.py', 'text.txt', 'text2.txt']\n"
     ]
    }
   ],
   "source": [
    "#OPERATING SYSTEM\n",
    "import os\n",
    "print(\"cwd\",os.getcwd())# cwd current working directory\n",
    "print(\"listdir\",os.listdir()) #listdir list directory)\n",
    "#print(\"new folder\",os.mkdir(\"test\")) \n",
    "#print(\"rename\",os.rename(\"test\",\"new test\"))\n",
    "#os.rmdir(\"new test\")\n"
   ]
  },
  {
   "cell_type": "code",
   "execution_count": 32,
   "metadata": {},
   "outputs": [
    {
     "name": "stdout",
     "output_type": "stream",
     "text": [
      "file>>> <_io.TextIOWrapper name='text.txt' mode='r' encoding='cp1252'>\n",
      "RAMADAN MUBARAK \n",
      "asaalam el kum\n"
     ]
    }
   ],
   "source": [
    "#FILE OPERATIONS\n",
    "file =open(\"text.txt\",\"r\")\n",
    "print(\"file>>>\",file)\n",
    "print(file.read())"
   ]
  },
  {
   "cell_type": "code",
   "execution_count": 34,
   "metadata": {},
   "outputs": [],
   "source": [
    "file =open(\"text2.txt\",\"w\")\n",
    "file.write(\"RAMADAN KAREEM\")\n",
    "file.close()"
   ]
  },
  {
   "cell_type": "code",
   "execution_count": 36,
   "metadata": {},
   "outputs": [],
   "source": [
    "file =open(\"text2.txt\",\"a\")\n",
    "file.write(\"\\nEID IS COMING\")\n",
    "file.close()"
   ]
  },
  {
   "cell_type": "code",
   "execution_count": 37,
   "metadata": {},
   "outputs": [],
   "source": [
    "with open(\"text2.txt\",\"a\") as file:\n",
    "    file.write(\"\\nWe want Eidi\")"
   ]
  },
  {
   "cell_type": "code",
   "execution_count": null,
   "metadata": {},
   "outputs": [],
   "source": []
  }
 ],
 "metadata": {
  "kernelspec": {
   "display_name": "Python 3",
   "language": "python",
   "name": "python3"
  },
  "language_info": {
   "codemirror_mode": {
    "name": "ipython",
    "version": 3
   },
   "file_extension": ".py",
   "mimetype": "text/x-python",
   "name": "python",
   "nbconvert_exporter": "python",
   "pygments_lexer": "ipython3",
   "version": "3.13.1"
  }
 },
 "nbformat": 4,
 "nbformat_minor": 2
}
