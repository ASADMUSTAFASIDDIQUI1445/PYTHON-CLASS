{
 "cells": [
  {
   "cell_type": "markdown",
   "metadata": {},
   "source": []
  },
  {
   "cell_type": "markdown",
   "metadata": {},
   "source": [
    "1) is VS ==\n",
    "2)Generators\n",
    "3)list compreshension "
   ]
  },
  {
   "cell_type": "code",
   "execution_count": null,
   "metadata": {},
   "outputs": [],
   "source": [
    "#string,Integer,float,Boolean,list,tuple,dict,set,none"
   ]
  },
  {
   "cell_type": "markdown",
   "metadata": {},
   "source": [
    "MULTIPLE DATA TYPES # Jo change ho saktay"
   ]
  },
  {
   "cell_type": "code",
   "execution_count": null,
   "metadata": {},
   "outputs": [],
   "source": [
    "#list dict set  "
   ]
  },
  {
   "cell_type": "markdown",
   "metadata": {},
   "source": [
    "immutable (jo change nahi ho saktay )"
   ]
  },
  {
   "cell_type": "code",
   "execution_count": null,
   "metadata": {},
   "outputs": [],
   "source": [
    "#string integer, boolean, tuple, float none "
   ]
  },
  {
   "cell_type": "code",
   "execution_count": 1,
   "metadata": {},
   "outputs": [
    {
     "name": "stdout",
     "output_type": "stream",
     "text": [
      "['qurma', 'bryani', 'tikka', 'kheer']\n"
     ]
    }
   ],
   "source": [
    "dishes=[\"qurma\",\"bryani\",\"tikka\",]\n",
    "dishes.append(\"kheer\")\n",
    "print (dishes)"
   ]
  },
  {
   "cell_type": "code",
   "execution_count": 2,
   "metadata": {},
   "outputs": [
    {
     "name": "stdout",
     "output_type": "stream",
     "text": [
      "asad\n"
     ]
    }
   ],
   "source": [
    "name : str=\"asad\"\n",
    "number : int=34,56,90,87\n",
    "print (name)\n"
   ]
  },
  {
   "cell_type": "code",
   "execution_count": 5,
   "metadata": {},
   "outputs": [
    {
     "name": "stdout",
     "output_type": "stream",
     "text": [
      "True\n",
      "False\n"
     ]
    }
   ],
   "source": [
    "list1 = [12,24,36]\n",
    "list2 = [12,24,36]\n",
    "\n",
    "print(list1==list2)\n",
    "print(list1 is list2)\n"
   ]
  },
  {
   "cell_type": "code",
   "execution_count": 6,
   "metadata": {},
   "outputs": [
    {
     "name": "stdout",
     "output_type": "stream",
     "text": [
      "True\n",
      "True\n"
     ]
    }
   ],
   "source": [
    "list1 =[2,4,6,8,10]\n",
    "list2 = list1\n",
    "print (list1 == list2)\n",
    "print (list1 is list2)"
   ]
  },
  {
   "cell_type": "code",
   "execution_count": null,
   "metadata": {},
   "outputs": [
    {
     "name": "stdout",
     "output_type": "stream",
     "text": [
      "False\n",
      "False\n",
      "True\n"
     ]
    }
   ],
   "source": [
    "name1 = \"Abdul Samad how are you? I am fine\" \n",
    "name2 = \"Abdul Samad how are you? I am fine\" \n",
    "\n",
    "num1 = 1\n",
    "num2 = 2.5\n",
    "\n",
    "bool1 = True\n",
    "bool2 = True\n",
    "\n",
    "print(name1 is name2)\n",
    "print(num1 is num2)\n",
    "print(bool1 is bool2)\n"
   ]
  },
  {
   "cell_type": "code",
   "execution_count": 9,
   "metadata": {},
   "outputs": [
    {
     "name": "stdout",
     "output_type": "stream",
     "text": [
      "list2>>> [10, 12, 14, 16]\n"
     ]
    }
   ],
   "source": [
    "list1 =[10,12,14]\n",
    "list2 =list1\n",
    "list1.append(16)\n",
    "print(\"list2>>>\",list2)"
   ]
  },
  {
   "cell_type": "code",
   "execution_count": 11,
   "metadata": {},
   "outputs": [
    {
     "name": "stdout",
     "output_type": "stream",
     "text": [
      "I am fine\n"
     ]
    }
   ],
   "source": [
    "value1: str =\"How are you?\"\n",
    "value2:str =value1\n",
    "\n",
    "value1=\"I am fine\"\n",
    "value2=value1\n",
    "print(value2)"
   ]
  },
  {
   "cell_type": "code",
   "execution_count": 13,
   "metadata": {},
   "outputs": [
    {
     "name": "stdout",
     "output_type": "stream",
     "text": [
      "num>>> 0\n",
      "sqr_num>>> 0\n",
      "num>>> 1\n",
      "sqr_num>>> 1\n",
      "num>>> 2\n",
      "sqr_num>>> 4\n",
      "num>>> 3\n",
      "sqr_num>>> 9\n",
      "num>>> 4\n",
      "sqr_num>>> 16\n",
      "[0, 1, 4, 9, 16]\n"
     ]
    }
   ],
   "source": [
    "sqr_list=[]\n",
    "def get_sqr_list(n:int):\n",
    "    for num in range(0,n):\n",
    "        print(\"num>>>\",num)\n",
    "        sqr_num=num*num\n",
    "        print(\"sqr_num>>>\",sqr_num)\n",
    "        sqr_list.append(sqr_num)\n",
    "\n",
    "get_sqr_list(5)\n",
    "print(sqr_list)\n",
    "    "
   ]
  },
  {
   "cell_type": "code",
   "execution_count": 26,
   "metadata": {},
   "outputs": [
    {
     "name": "stdout",
     "output_type": "stream",
     "text": [
      "sqr_list>>> [0, 1, 4, 9, 16]\n"
     ]
    }
   ],
   "source": [
    "def get_sqr_list(n:int):\n",
    "    for num in range(n):\n",
    "       num* num\n",
    "  # sqr_list= [output loop with condition]\n",
    "    sqr_list=[num*num for num in range(n)]\n",
    "    sqr_list=[num*num for num in range(5)]\n",
    "    print(\"sqr_list>>>\",sqr_list)\n",
    "    \n",
    "    \n",
    "get_sqr_list(5 )"
   ]
  },
  {
   "cell_type": "code",
   "execution_count": 4,
   "metadata": {},
   "outputs": [
    {
     "name": "stdout",
     "output_type": "stream",
     "text": [
      "1\n",
      "[2, 6, 8, 10]\n"
     ]
    }
   ],
   "source": [
    "numbers =[1,2,3,45,6,7,8,9,10]\n",
    "even_numbers = []\n",
    "\n",
    "# if num % 2 ==0\n",
    "#   print (\"number is even \")\n",
    "print (13 % 2)\n",
    "\n",
    "for num in numbers:\n",
    "    if num % 2 == 0:\n",
    "      even_numbers.append(num)\n",
    "\n",
    "print(even_numbers) "
   ]
  },
  {
   "cell_type": "code",
   "execution_count": 5,
   "metadata": {},
   "outputs": [
    {
     "name": "stdout",
     "output_type": "stream",
     "text": [
      "[2, 4, 6, 8, 10]\n"
     ]
    }
   ],
   "source": [
    "numbers =[1,2,3,4,5,6,7,8,9,10]\n",
    "# num ko return kro agar num wo even hai\n",
    "even_numbers=[num for num in numbers if num % 2 == 0]\n",
    "print(even_numbers)"
   ]
  },
  {
   "cell_type": "code",
   "execution_count": 10,
   "metadata": {},
   "outputs": [
    {
     "name": "stdout",
     "output_type": "stream",
     "text": [
      "[1, 2, 3, 4, 5, 6, 7, 8, 9, 10]\n"
     ]
    }
   ],
   "source": [
    "def get_numbers():\n",
    "    result = []\n",
    "    for num in range(1,11):\n",
    "        result.append(num)\n",
    "    return result\n",
    "    \n",
    "number_list = get_numbers()\n",
    "print(number_list)"
   ]
  },
  {
   "cell_type": "code",
   "execution_count": 14,
   "metadata": {},
   "outputs": [
    {
     "name": "stdout",
     "output_type": "stream",
     "text": [
      "num>>> 0\n",
      "num>>> 1\n",
      "num>>> 2\n",
      "num>>> 3\n",
      "num>>> 4\n",
      "num>>> 5\n",
      "num>>> 6\n",
      "num>>> 7\n",
      "num>>> 8\n",
      "num>>> 9\n",
      "num>>> 10\n"
     ]
    }
   ],
   "source": [
    "def get_generate_values():\n",
    " for num in range(0,11):\n",
    "    yield num # 0 -> 1\n",
    "\n",
    "\n",
    "result = get_generate_values()\n",
    "#print(next(result)\n",
    "#print(next(result))\n",
    "#print(next(result))\n",
    "#print(next(result))\n",
    "#print(next(result))\n",
    "#print(next(result))\n",
    "#print(next(result))\n",
    "#print(next(result))\n",
    "#print(next(result))\n",
    "#print(next(result))\n",
    "#print(next(result))\n",
    "\n",
    "for num in result:\n",
    "    print(\"num>>>\",num)"
   ]
  }
 ],
 "metadata": {
  "kernelspec": {
   "display_name": "Python 3",
   "language": "python",
   "name": "python3"
  },
  "language_info": {
   "codemirror_mode": {
    "name": "ipython",
    "version": 3
   },
   "file_extension": ".py",
   "mimetype": "text/x-python",
   "name": "python",
   "nbconvert_exporter": "python",
   "pygments_lexer": "ipython3",
   "version": "3.13.1"
  }
 },
 "nbformat": 4,
 "nbformat_minor": 2
}
